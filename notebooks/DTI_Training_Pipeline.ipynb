{
 "cells": [
  {
   "cell_type": "markdown",
   "metadata": {},
   "source": [
    "# Drug-Target Interaction (DTI) Training Pipeline\n",
    "\n",
    "This notebook walks through the complete end-to-end process of training a deep learning model to predict interactions between drugs and genes.\n",
    "\n",
    "**Pipeline Steps:**\n",
    "1.  **Setup**: Import libraries and load configuration.\n",
    "2.  **Data Loading & Preprocessing**: Load the raw relationship data, filter for drug-gene pairs, and enrich it with protein sequences and chemical SMILES strings.\n",
    "3.  **Data Splitting**: Split the dataset into training, validation, and test sets using a scaffold-based approach to prevent data leakage.\n",
    "4.  **Featurization**: Convert SMILES strings into 3D molecular graphs and protein sequences into embeddings using an ESM model.\n",
    "5.  **Dataset Creation**: Create PyTorch Datasets and DataLoaders.\n",
    "6.  **Model Training**: Initialize and train the DTI prediction model.\n",
    "7.  **Evaluation**: Evaluate the trained model on the test set and visualize performance metrics.\n",
    "8.  **Inference**: Demonstrate how to use the trained model for predicting interactions on new pairs."
   ]
  },
  {
   "cell_type": "code",
   "execution_count": null,
   "metadata": {},
   "outputs": [],
   "source": [
    "import os\n",
    "import yaml\n",
    "import json\n",
    "import pandas as pd\n",
    "import numpy as np\n",
    "import torch\n",
    "from pathlib import Path\n",
    "from torch.utils.data import DataLoader\n",
    "\n",
    "# Import from our source code\n",
    "from src.utils.api_clients import DataEnricher\n",
    "from src.preprocessing.data_enricher import process_raw_data\n",
    "from src.preprocessing.feature_engineer import (\n",
    "    scaffold_split,\n",
    "    ProteinEmbedder,\n",
    "    DTIDataset,\n",
    "    collate_fn\n",
    ")\n",
    "from src.models.dti_model import DTIModel, Trainer, evaluate_model, predict_interaction\n",
    "from src.molecular_3d.visualization import plot_training_history, plot_evaluation_metrics\n",
    "\n",
    "print(f'PyTorch version: {torch.__version__}')\n",
    "print(f'CUDA available: {torch.cuda.is_available()}')"
   ]
  },
  {
   "cell_type": "markdown",
   "metadata": {},
   "source": [
    "## 1. Setup: Load Configuration and Set Seed"
   ]
  },
  {
   "cell_type": "code",
   "execution_count": null,
   "metadata": {},
   "outputs": [],
   "source": [
    "def load_config(config_path='../config/config.yaml'):\n",
    "    with open(config_path, 'r') as f:\n",
    "        config = yaml.safe_load(f)\n",
    "    return config\n",
    "\n",
    "def set_seed(seed=42):\n",
    "    np.random.seed(seed)\n",
    "    torch.manual_seed(seed)\n",
    "    if torch.cuda.is_available():\n",
    "        torch.cuda.manual_seed_all(seed)\n",
    "        torch.backends.cudnn.deterministic = True\n",
    "        torch.backends.cudnn.benchmark = False\n",
    "\n",
    "config = load_config()\n",
    "set_seed(42)\n",
    "\n",
    "# Create directories\n",
    "Path(config['paths']['cache_dir']).mkdir(exist_ok=True)\n",
    "Path(config['paths']['output_dir']).mkdir(exist_ok=True)\n",
    "Path(config['paths']['checkpoint_dir']).mkdir(exist_ok=True)\n",
    "\n",
    "print('Configuration loaded successfully:')\n",
    "print(json.dumps(config, indent=2))"
   ]
  },
  {
   "cell_type": "markdown",
   "metadata": {},
   "source": [
    "## 2. Data Loading, Enrichment, and Preprocessing"
   ]
  },
  {
   "cell_type": "code",
   "execution_count": null,
   "metadata": {},
   "outputs": [],
   "source": [
    "# Initialize the data enricher\n",
    "enricher = DataEnricher(config)\n",
    "\n",
    "# Process the raw data file\n",
    "df_clean = process_raw_data(config, enricher)\n",
    "\n",
    "if len(df_clean) > 0:\n",
    "    print(f'\nSuccessfully processed data. Total valid pairs: {len(df_clean)}')\n",
    "    df_clean.to_csv(Path(config['paths']['cache_dir']) / 'enriched_dataset.csv', index=False)\n",
    "    print(f'Enriched dataset saved to cache.')\n",
    "else:\n",
    "    print('\nCritical error: No data left after processing. Halting execution.')"
   ]
  },
  {
   "cell_type": "markdown",
   "metadata": {},
   "source": [
    "## 3. Data Splitting"
   ]
  },
  {
   "cell_type": "code",
   "execution_count": null,
   "metadata": {},
   "outputs": [],
   "source": [
    "if len(df_clean) > 0:\n",
    "    df_train, df_test, df_val = scaffold_split(\n",
    "        df_clean,\n",
    "        train_size=config['data_split']['train_size'],\n",
    "        test_size=config['data_split']['test_size'],\n",
    "        val_size=config['data_split']['val_size']\n",
    "    )\n",
    "\n",
    "    # Save splits\n",
    "    df_train.to_csv(Path(config['paths']['cache_dir']) / 'train_set.csv', index=False)\n",
    "    df_test.to_csv(Path(config['paths']['cache_dir']) / 'test_set.csv', index=False)\n",
    "    df_val.to_csv(Path(config['paths']['cache_dir']) / 'val_set.csv', index=False)\n",
    "    print('Data splits saved to cache.')"
   ]
  },
  {
   "cell_type": "markdown",
   "metadata": {},
   "source": [
    "## 4. Featurization & Dataset Creation"
   ]
  },
  {
   "cell_type": "code",
   "execution_count": null,
   "metadata": {},
   "outputs": [],
   "source": [
    "# Initialize the protein embedder (this will download the ESM model)\n",
    "embedder = ProteinEmbedder(config)\n",
    "\n",
    "# Create PyTorch datasets\n",
    "print('\nCreating training dataset...')\n",
    "train_dataset = DTIDataset(df_train, config, embedder)\n",
    "\n",
    "print('\nCreating validation dataset...')\n",
    "val_dataset = DTIDataset(df_val, config, embedder)\n",
    "\n",
    "print('\nCreating test dataset...')\n",
    "test_dataset = DTIDataset(df_test, config, embedder)\n",
    "\n",
    "print(f'\nDataset sizes:\nTrain: {len(train_dataset)}\nVal: {len(val_dataset)}\nTest: {len(test_dataset)}')"
   ]
  },
  {
   "cell_type": "markdown",
   "metadata": {},
   "source": [
    "## 5. Create DataLoaders"
   ]
  },
  {
   "cell_type": "code",
   "execution_count": null,
   "metadata": {},
   "outputs": [],
   "source": [
    "train_loader = DataLoader(\n",
    "    train_dataset, \n",
    "    batch_size=config['training']['batch_size'], \n",
    "    shuffle=True, \n",
    "    collate_fn=collate_fn\n",
    ")\n",
    "\n",
    "val_loader = DataLoader(\n",
    "    val_dataset, \n",
    "    batch_size=config['training']['batch_size'], \n",
    "    shuffle=False, \n",
    "    collate_fn=collate_fn\n",
    ")\n",
    "\n",
    "test_loader = DataLoader(\n",
    "    test_dataset, \n",
    "    batch_size=config['training']['batch_size'], \n",
    "    shuffle=False, \n",
    "    collate_fn=collate_fn\n",
    ")\n",
    "\n",
    "print('DataLoaders created.')"
   ]
  },
  {
   "cell_type": "markdown",
   "metadata": {},
   "source": [
    "## 6. Model Training"
   ]
  },
  {
   "cell_type": "code",
   "execution_count": null,
   "metadata": {},
   "outputs": [],
   "source": [
    "# Initialize the model\n",
    "model = DTIModel(config)\n",
    "\n",
    "# Initialize the trainer\n",
    "trainer = Trainer(model, train_loader, val_loader, config)\n",
    "\n",
    "# Start training\n",
    "trainer.train_loop()"
   ]
  },
  {
   "cell_type": "markdown",
   "metadata": {},
   "source": [
    "## 7. Evaluation"
   ]
  },
  {
   "cell_type": "code",
   "execution_count": null,
   "metadata": {},
   "outputs": [],
   "source": [
    "# Plot training history\n",
    "history_plot_path = Path(config['paths']['output_dir']) / 'training_history.png'\n",
    "plot_training_history(trainer.history, history_plot_path)\n",
    "\n",
    "# Evaluate on the test set\n",
    "print('\nEvaluating model on the test set...')\n",
    "test_metrics, test_preds, test_labels = evaluate_model(model, test_loader, config)\n",
    "\n",
    "print(f'\nTEST SET RESULTS')\n",
    "print(f'='*30)\n",
    "print(f'ROC AUC:     {test_metrics[\"roc_auc\"]:.4f}')\n",
    "print(f'PR AUC:      {test_metrics[\"pr_auc\"]:.4f}')\n",
    "print(f'Accuracy:    {test_metrics[\"accuracy\"]:.4f}')\n",
    "print(f'F1 Score:    {test_metrics[\"f1\"]:.4f}')\n",
    "print(f'='*30)\n",
    "\n",
    "# Plot evaluation metrics\n",
    "eval_plot_path = Path(config['paths']['output_dir']) / 'evaluation_metrics.png'\n",
    "plot_evaluation_metrics(test_metrics, eval_plot_path)\n",
    "\n",
    "# Save predictions\n",
    "num_preds = len(test_preds)\n",
    "df_test_synced = df_test.iloc[:num_preds].copy()\n",
    "results_df = pd.DataFrame({\n",
    "    'gene_id': df_test_synced['gene_id'],\n",
    "    'chem_id': df_test_synced['chem_id'],\n",
    "    'true_label': test_labels,\n",
    "    'predicted_prob': test_preds\n",
    "})\n",
    "results_path = Path(config['paths']['output_dir']) / 'test_predictions.csv'\n",
    "results_df.to_csv(results_path, index=False)\n",
    "print(f'Test predictions saved to {results_path}')"
   ]
  },
  {
   "cell_type": "markdown",
   "metadata": {},
   "source": [
    "## 8. Inference on a New Pair"
   ]
  },
  {
   "cell_type": "code",
   "execution_count": null,
   "metadata": {},
   "outputs": [],
   "source": [
    "# Example of predicting a new interaction\n",
    "# Using a sample from the test set for demonstration\n",
    "if len(df_test) > 0:\n",
    "    sample = df_test.iloc[0]\n",
    "    gene_id_to_predict = sample['gene_id']\n",
    "    chem_id_to_predict = sample['chem_id']\n",
    "    \n",
    "    result = predict_interaction(\n",
    "        model, \n",
    "        gene_id_to_predict, \n",
    "        chem_id_to_predict,\n",
    "        enricher,\n",
    "        embedder,\n",
    "        config\n",
    "    )\n",
    "    \n",
    "    if result:\n",
    "        print(f'\nPrediction for {gene_id_to_predict} - {chem_id_to_predict}:')\n",
    "        print(f'  Probability: {result[\"probability\"]:.4f}')\n",
    "        print(f'  True Label in test set was: {sample[\"label\"]}')"
   ]
  }
 ],
 "metadata": {
  "kernelspec": {
   "display_name": "Python 3",
   "language": "python",
   "name": "python3"
  }
 },
 "nbformat": 4,
 "nbformat_minor": 2
}
